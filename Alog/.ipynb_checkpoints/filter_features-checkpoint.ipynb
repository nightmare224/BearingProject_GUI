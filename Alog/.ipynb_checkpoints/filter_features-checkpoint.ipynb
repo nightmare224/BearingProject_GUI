{
 "cells": [
  {
   "cell_type": "code",
   "execution_count": 1,
   "metadata": {},
   "outputs": [],
   "source": [
    "import matplotlib.pyplot as plt\n",
    "from joblib import dump, load\n",
    "from sklearn.ensemble import RandomForestClassifier\n",
    "\n",
    "from Header.preprocessing import *\n",
    "from Header.metric import *\n",
    "from Header.model_select import *\n",
    "from Header.visualize import plot_tree\n",
    "from Header.config import *"
   ]
  },
  {
   "cell_type": "code",
   "execution_count": 5,
   "metadata": {},
   "outputs": [
    {
     "name": "stdout",
     "output_type": "stream",
     "text": [
      "(2248, 128) (2248,)\n"
     ]
    }
   ],
   "source": [
    "print(x_train.shape, y_train.shape)\n",
    "\n",
    "# Get feature importance\n",
    "rf = RandomForestClassifier(n_estimators = 200)\n",
    "rf.fit(x_train, y_train)\n",
    "final_importance, mask = GetFeatureImportanceAndMask(rf, x_train, y_train)\n",
    "np.save('./feature_importance_mask/mask_envelope.npy', mask)"
   ]
  },
  {
   "cell_type": "code",
   "execution_count": null,
   "metadata": {},
   "outputs": [],
   "source": [
    "# We should put this small model on pynq.\n",
    "rf = RandomForestClassifier(n_estimators = 200)\n",
    "mask = np.load('./feature_importance_mask/mask_envelope.npy')\n",
    "x_train_fe = x_train[:, mask[:36]]\n",
    "x_test_fe = x_train[:, mask[:36]]\n",
    "\n",
    "rf.fit(x_train_fe, y_train)\n",
    "\n",
    "# modelreport(rf2, x_train_fe, y_train, target_names = name_lst, mtype='ML')\n",
    "modelreport(rf, x_test_fe, y_test, target_names = name_lst, mtype='ML')"
   ]
  }
 ],
 "metadata": {
  "kernelspec": {
   "display_name": "Python 3",
   "language": "python",
   "name": "python3"
  },
  "language_info": {
   "codemirror_mode": {
    "name": "ipython",
    "version": 3
   },
   "file_extension": ".py",
   "mimetype": "text/x-python",
   "name": "python",
   "nbconvert_exporter": "python",
   "pygments_lexer": "ipython3",
   "version": "3.7.3"
  }
 },
 "nbformat": 4,
 "nbformat_minor": 4
}
